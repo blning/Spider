{
 "cells": [
  {
   "cell_type": "markdown",
   "metadata": {},
   "source": [
    "## Python模块--OS模块"
   ]
  },
  {
   "cell_type": "markdown",
   "metadata": {},
   "source": [
    "os模块中包含着关于文件的相关操作方法，比如查找文件、读取文件信息，文件路径等内容"
   ]
  },
  {
   "cell_type": "markdown",
   "metadata": {},
   "source": [
    "### os.getcwd()     \n",
    "    查看当前文件所在的路径"
   ]
  },
  {
   "cell_type": "code",
   "execution_count": 1,
   "metadata": {},
   "outputs": [
    {
     "data": {
      "text/plain": [
       "'E:\\\\5、Python常用库\\\\OS【操作系统命令】'"
      ]
     },
     "execution_count": 1,
     "metadata": {},
     "output_type": "execute_result"
    }
   ],
   "source": [
    "import os\n",
    "\n",
    "os.getcwd()"
   ]
  },
  {
   "cell_type": "markdown",
   "metadata": {},
   "source": [
    "### os.listdir(path=None)\n",
    "    功能：列举目录下的所有文件，并以列表的形式返回目录下的所有文件名称\n",
    "    \n",
    "    参数：\n",
    "        path：表示要查看的文件路径"
   ]
  },
  {
   "cell_type": "code",
   "execution_count": 5,
   "metadata": {},
   "outputs": [
    {
     "data": {
      "text/plain": [
       "['.ipynb_checkpoints',\n",
       " 'Python常用模块介绍.xlsx',\n",
       " 'Untitled.ipynb',\n",
       " '批量删除过期文件.py',\n",
       " '笔记.md',\n",
       " '重命名文件.py']"
      ]
     },
     "execution_count": 5,
     "metadata": {},
     "output_type": "execute_result"
    }
   ],
   "source": [
    "path = os.getcwd()\n",
    "\n",
    "os.listdir(path)"
   ]
  },
  {
   "cell_type": "markdown",
   "metadata": {},
   "source": [
    "### os.path.isdir(path)\n",
    "    功能：判断路径下的文件是否为文件夹\n",
    "    \n",
    "    参数：\n",
    "        path：表示当前路径下是否为文件夹"
   ]
  },
  {
   "cell_type": "code",
   "execution_count": 9,
   "metadata": {
    "scrolled": true
   },
   "outputs": [
    {
     "name": "stdout",
     "output_type": "stream",
     "text": [
      "检测文件路径1： E:\\5、Python常用库\\OS【操作系统命令】\\PYTHON\n",
      "检测文件路径2： E:\\5、Python常用库\\OS【操作系统命令】\\os_method.ipynb\n",
      "判断1： True\n",
      "判断2： False\n"
     ]
    }
   ],
   "source": [
    "path = os.path.join(os.getcwd(), 'PYTHON')\n",
    "path1 = os.path.join(os.getcwd(), 'os_method.ipynb')\n",
    "\n",
    "print('检测文件路径1：', path)\n",
    "print('检测文件路径2：', path1)\n",
    "\n",
    "print('判断1：', os.path.isdir(path))\n",
    "print('判断2：', os.path.isdir(path1))"
   ]
  },
  {
   "cell_type": "markdown",
   "metadata": {},
   "source": [
    "### os.path.isfile(path)\n",
    "    功能：判断路径下的文件是否为文件\n",
    "\n",
    "    参数：\n",
    "        path：表示当前路径下是否为文件"
   ]
  },
  {
   "cell_type": "code",
   "execution_count": 10,
   "metadata": {},
   "outputs": [
    {
     "name": "stdout",
     "output_type": "stream",
     "text": [
      "检测文件路径1： E:\\5、Python常用库\\OS【操作系统命令】\\PYTHON\n",
      "检测文件路径2： E:\\5、Python常用库\\OS【操作系统命令】\\os_method.ipynb\n",
      "判断1： False\n",
      "判断2： True\n"
     ]
    }
   ],
   "source": [
    "path = os.path.join(os.getcwd(), 'PYTHON')\n",
    "path1 = os.path.join(os.getcwd(), 'os_method.ipynb')\n",
    "\n",
    "print('检测文件路径1：', path)\n",
    "print('检测文件路径2：', path1)\n",
    "\n",
    "print('判断1：', os.path.isfile(path))\n",
    "print('判断2：', os.path.isfile(path1))"
   ]
  },
  {
   "cell_type": "markdown",
   "metadata": {},
   "source": [
    "### os.path.abspath(path)\n",
    "    功能：返回path路径的绝对地址\n",
    "    \n",
    "    参数：\n",
    "        path：表示要查看的文件的路径"
   ]
  },
  {
   "cell_type": "code",
   "execution_count": 7,
   "metadata": {},
   "outputs": [
    {
     "data": {
      "text/plain": [
       "'E:\\\\5、Python常用库\\\\OS【操作系统命令】\\\\os_method.ipynb'"
      ]
     },
     "execution_count": 7,
     "metadata": {},
     "output_type": "execute_result"
    }
   ],
   "source": [
    "os.path.abspath('os_method.ipynb')"
   ]
  },
  {
   "cell_type": "markdown",
   "metadata": {},
   "source": [
    "### os.path.join(path, *paths)\n",
    "    功能：将path路径进行组合，若其中有绝对路径，则之前的path将被删除。\n",
    "    \n",
    "    参数：\n",
    "        path：表示要拼接的文件路径  \n",
    "        *path：表示要连接的文件路径"
   ]
  },
  {
   "cell_type": "code",
   "execution_count": 13,
   "metadata": {},
   "outputs": [
    {
     "data": {
      "text/plain": [
       "'C:\\\\python\\\\love.txt'"
      ]
     },
     "execution_count": 13,
     "metadata": {},
     "output_type": "execute_result"
    }
   ],
   "source": [
    "path = 'C:\\\\python'\n",
    "path1 = 'love.txt'\n",
    "path2 = 'Qin'\n",
    "\n",
    "os.path.join(path, path1)"
   ]
  },
  {
   "cell_type": "code",
   "execution_count": 18,
   "metadata": {},
   "outputs": [
    {
     "data": {
      "text/plain": [
       "'C:\\\\python\\\\Qin\\\\love.txt'"
      ]
     },
     "execution_count": 18,
     "metadata": {},
     "output_type": "execute_result"
    }
   ],
   "source": [
    "os.path.join(path, path2, path1)    # 多路径的拼接"
   ]
  },
  {
   "cell_type": "markdown",
   "metadata": {},
   "source": [
    "### os.path.split(p)\n",
    "    功能：对文件路径名称进行分割，以列表的形式返回文件夹路径与文件名\n",
    "        若文件名称最后一个字符是‘\\’，则只有文件夹路径\n",
    "        若文件名称中无‘\\’，则只有文件名\n",
    "        若文件名称中有‘\\’，且不在最后，则返回文件夹名和文件名，且返回的文件夹的结果不包含‘\\’\n",
    "    \n",
    "    参数：\n",
    "        p：表示要分割的文件名称"
   ]
  },
  {
   "cell_type": "code",
   "execution_count": 19,
   "metadata": {
    "scrolled": true
   },
   "outputs": [
    {
     "data": {
      "text/plain": [
       "('D:\\\\python\\\\Python基础\\\\函数', '笔记.ipynb')"
      ]
     },
     "execution_count": 19,
     "metadata": {},
     "output_type": "execute_result"
    }
   ],
   "source": [
    "os.path.split('D:\\python\\Python基础\\函数\\笔记.ipynb')     # 路径名称中带文件路径与文件名称，则正确返回文件夹路径与文件的名称"
   ]
  },
  {
   "cell_type": "code",
   "execution_count": 35,
   "metadata": {},
   "outputs": [
    {
     "name": "stdout",
     "output_type": "stream",
     "text": [
      "文件夹路径为： D:\\python\\Python基础\\函数\n",
      "文件名称为： 笔记.ipynb\n"
     ]
    }
   ],
   "source": [
    "dirName, fileName = os.path.split('D:\\python\\Python基础\\函数\\笔记.ipynb')     # 路径名称中带文件路径与文件名称，则正确返回文件夹路径与文件的名称\n",
    "\n",
    "print('文件夹路径为：', dirName)\n",
    "print('文件名称为：', fileName)"
   ]
  },
  {
   "cell_type": "code",
   "execution_count": 32,
   "metadata": {
    "scrolled": false
   },
   "outputs": [
    {
     "data": {
      "text/plain": [
       "('', '笔记.txt')"
      ]
     },
     "execution_count": 32,
     "metadata": {},
     "output_type": "execute_result"
    }
   ],
   "source": [
    "os.path.split('笔记.txt')     # 文件路径名称只有文件名称，则只返回文件的名称，文件夹路径返回为空"
   ]
  },
  {
   "cell_type": "code",
   "execution_count": 31,
   "metadata": {},
   "outputs": [
    {
     "data": {
      "text/plain": [
       "('D:\\\\python', '')"
      ]
     },
     "execution_count": 31,
     "metadata": {},
     "output_type": "execute_result"
    }
   ],
   "source": [
    "path = 'D:\\python\\\\'       # '\\\\'是字符串中的特殊字符，‘\\\\’表示一个‘\\’\n",
    "\n",
    "os.path.split(path)"
   ]
  },
  {
   "cell_type": "markdown",
   "metadata": {},
   "source": [
    "### os.path.splitext(p)\n",
    "    功能：分割文件及文件格式\n",
    "        如果p表示一个文件的路径，则分割出来的则是文件的路径及文件的格式\n",
    "    \n",
    "    参数:\n",
    "        p : 表示要分割的文件路径名称"
   ]
  },
  {
   "cell_type": "code",
   "execution_count": 100,
   "metadata": {},
   "outputs": [
    {
     "name": "stdout",
     "output_type": "stream",
     "text": [
      "('os模块使用方法', '.ipynb')\n"
     ]
    }
   ],
   "source": [
    "path = 'os模块使用方法.ipynb'\n",
    "\n",
    "res = os.path.splitext(path)    \n",
    "print(res)   "
   ]
  },
  {
   "cell_type": "code",
   "execution_count": 101,
   "metadata": {},
   "outputs": [
    {
     "name": "stdout",
     "output_type": "stream",
     "text": [
      "('python\\test', '.py')\n"
     ]
    }
   ],
   "source": [
    "path = 'python\\test.py'\n",
    "\n",
    "res = os.path.splitext(path)\n",
    "print(res)"
   ]
  },
  {
   "cell_type": "markdown",
   "metadata": {},
   "source": [
    "### os.mkdir(path, [mode])\n",
    "    功能：用于创建文件夹目录，可以设置文件目录的权限\n",
    "    \n",
    "    参数：\n",
    "        path：表示要创建的文件目录\n",
    "        mode：表示设置创建目录的权限"
   ]
  },
  {
   "cell_type": "code",
   "execution_count": 58,
   "metadata": {},
   "outputs": [
    {
     "name": "stdout",
     "output_type": "stream",
     "text": [
      "E:\\5、Python常用库\\OS【操作系统命令】/java\n"
     ]
    }
   ],
   "source": [
    "path = os.getcwd()  + '/java'\n",
    "\n",
    "print(path)\n",
    "\n",
    "os.mkdir(path)"
   ]
  },
  {
   "cell_type": "markdown",
   "metadata": {},
   "source": [
    "### os.makedirs(path, [mode])\n",
    "    功能：用于递归的创建目录，可以设置目录的权限\n",
    "    \n",
    "    参数：\n",
    "        path：表示要创建文件的递归目录\n",
    "        mode：表示文件的操作权限"
   ]
  },
  {
   "cell_type": "code",
   "execution_count": 51,
   "metadata": {},
   "outputs": [
    {
     "name": "stdout",
     "output_type": "stream",
     "text": [
      "递归文件的目录： E:\\python\\java\\test\n"
     ]
    }
   ],
   "source": [
    "path = os.path.join(os.getcwd(), r'\\python\\java\\test')\n",
    "\n",
    "print('递归文件的目录：', path)\n",
    "\n",
    "os.makedirs(path)         # 递归的创建文件目录"
   ]
  },
  {
   "cell_type": "markdown",
   "metadata": {},
   "source": [
    "### os.path.exists(path)\n",
    "    功能：查看path路径是否存在，如果存在在则返回为True,否则返回False\n",
    "    \n",
    "    参数：\n",
    "        path：表示要查看的文件路径"
   ]
  },
  {
   "cell_type": "code",
   "execution_count": 62,
   "metadata": {
    "scrolled": false
   },
   "outputs": [
    {
     "name": "stdout",
     "output_type": "stream",
     "text": [
      "文件存在： True\n",
      "文件不存在： False\n"
     ]
    }
   ],
   "source": [
    "path = os.path.join(os.getcwd(), 'test.txt')\n",
    "path1 = os.path.join(os.getcwd(), 'test1.txt')\n",
    "\n",
    "res = os.path.exists(path)\n",
    "print('文件存在：', res)\n",
    "\n",
    "res1 = os.path.exists(path1)\n",
    "print('文件不存在：', res1)"
   ]
  },
  {
   "cell_type": "markdown",
   "metadata": {},
   "source": [
    "### os.path.getsize(filename)\n",
    "    功能：返回一个文件中数据的字节数\n",
    "    \n",
    "    参数：\n",
    "        filename：表示要查看的文件路径"
   ]
  },
  {
   "cell_type": "code",
   "execution_count": 16,
   "metadata": {},
   "outputs": [
    {
     "name": "stdout",
     "output_type": "stream",
     "text": [
      "查看的文件路径： E:\\5、Python常用库\\OS【操作系统命令】\\Test.txt\n",
      "文件的字节数： 132\n"
     ]
    }
   ],
   "source": [
    "path = os.path.join(os.getcwd(), 'Test.txt')\n",
    "\n",
    "print('查看的文件路径：', path)\n",
    "\n",
    "size = os.path.getsize(path)\n",
    "print('文件的字节数：', size)"
   ]
  },
  {
   "cell_type": "markdown",
   "metadata": {},
   "source": [
    "### os.remove(path)\n",
    "    功能：删除路径为path的文件。如果path 是一个文件夹，将抛出OSError。\n",
    "    \n",
    "    参数：\n",
    "        path：表示要删除的文件"
   ]
  },
  {
   "cell_type": "code",
   "execution_count": 66,
   "metadata": {},
   "outputs": [
    {
     "name": "stdout",
     "output_type": "stream",
     "text": [
      "文件删除成功！\n"
     ]
    }
   ],
   "source": [
    "path = os.path.join(os.getcwd(), 'foo.txt')\n",
    "\n",
    "os.remove(path)\n",
    "print('文件删除成功！')"
   ]
  },
  {
   "cell_type": "markdown",
   "metadata": {},
   "source": [
    "### os.removedirs(path)\n",
    "    功能：递归删除目录。\n",
    "    \n",
    "    参数:\n",
    "        path: 表示要删除的递归文件目录路径"
   ]
  },
  {
   "cell_type": "code",
   "execution_count": 69,
   "metadata": {},
   "outputs": [
    {
     "name": "stdout",
     "output_type": "stream",
     "text": [
      "要删除的文件路径： E:\\5、Python常用库\\OS【操作系统命令】\\python/java/first\n",
      "文件删除成功！\n"
     ]
    }
   ],
   "source": [
    "path = os.path.join(os.getcwd(), 'python/java/first')\n",
    "\n",
    "print('要删除的文件路径：', path)\n",
    "\n",
    "os.removedirs(path)\n",
    "print('文件删除成功！')"
   ]
  },
  {
   "cell_type": "markdown",
   "metadata": {},
   "source": [
    "### os.rename(src, dst)\n",
    "    功能：重命名文件或目录，将当前的文件名src修改为dst\n",
    "    \n",
    "    参数：\n",
    "        src：表示要修改文件名路径或目录路径\n",
    "        dst：表示要修改为的文件名路径或目录路径"
   ]
  },
  {
   "cell_type": "code",
   "execution_count": 70,
   "metadata": {},
   "outputs": [
    {
     "name": "stdout",
     "output_type": "stream",
     "text": [
      "文件名修改成功。\n"
     ]
    }
   ],
   "source": [
    "src_file = os.path.join(os.getcwd(), 'test.txt')\n",
    "dst_file = os.path.join(os.getcwd(), 'Test.txt')\n",
    "\n",
    "os.rename(src_file, dst_file)\n",
    "print('文件名修改成功。')"
   ]
  },
  {
   "cell_type": "code",
   "execution_count": 72,
   "metadata": {},
   "outputs": [
    {
     "name": "stdout",
     "output_type": "stream",
     "text": [
      "目录名修改成功。\n"
     ]
    }
   ],
   "source": [
    "src_dir = os.path.join(os.getcwd(), 'python')\n",
    "src_dir = os.path.join(os.getcwd(), 'PYTHON')\n",
    "\n",
    "os.rename(src_dir, src_dir)\n",
    "print('目录名修改成功。')"
   ]
  },
  {
   "cell_type": "markdown",
   "metadata": {},
   "source": [
    "### os.renames(old, new)\n",
    "    功能：递归地对目录进行更名，也可以对文件进行更名。\n",
    "    \n",
    "    参数：\n",
    "        old：表示要修改的旧文件名路径或旧目录路径\n",
    "        new：表示要修改为的新文件名路径或新目录路径"
   ]
  },
  {
   "cell_type": "code",
   "execution_count": 74,
   "metadata": {},
   "outputs": [
    {
     "name": "stdout",
     "output_type": "stream",
     "text": [
      "递归的目录名修改成功。\n"
     ]
    }
   ],
   "source": [
    "old_dir = os.path.join(os.getcwd(), 'PYTHON/java/first')\n",
    "new_dir = os.path.join(os.getcwd(), 'PYTHON/JAVA/FIRST')\n",
    "\n",
    "os.rename(old_dir, new_dir)\n",
    "print('递归的目录名修改成功。')"
   ]
  },
  {
   "cell_type": "code",
   "execution_count": 75,
   "metadata": {},
   "outputs": [
    {
     "name": "stdout",
     "output_type": "stream",
     "text": [
      "递归的文件名修改成功。\n"
     ]
    }
   ],
   "source": [
    "old_file = os.path.join(os.getcwd(), 'PYTHON/java/first.txt')\n",
    "new_file = os.path.join(os.getcwd(), 'PYTHON/JAVA/FIRST.txt')\n",
    "\n",
    "os.rename(old_file, new_file)\n",
    "print('递归的文件名修改成功。')"
   ]
  },
  {
   "cell_type": "markdown",
   "metadata": {},
   "source": [
    "### os.rmdir(path)\n",
    "    功能：删除path指定的空目录，如果目录非空，则抛出一个OSError异常。\n",
    "    \n",
    "    参数：\n",
    "        path：要删除的空目录路径"
   ]
  },
  {
   "cell_type": "code",
   "execution_count": 76,
   "metadata": {},
   "outputs": [
    {
     "name": "stdout",
     "output_type": "stream",
     "text": [
      "要删除的文件目录： E:\\5、Python常用库\\OS【操作系统命令】\\java\n",
      "空目录删除成功\n"
     ]
    }
   ],
   "source": [
    "rm_path = os.path.join(os.getcwd(), 'java')\n",
    "\n",
    "print('要删除的文件目录：', rm_path)\n",
    "\n",
    "os.rmdir(rm_path)\n",
    "print('空目录删除成功')"
   ]
  },
  {
   "cell_type": "markdown",
   "metadata": {},
   "source": [
    "### os.stat(path)\n",
    "    功能：返回path中文件或目录的详细信息\n",
    "    \n",
    "    参数：\n",
    "        path: 要查看的文件或目录路径\n",
    "        \n",
    "    返回值：\n",
    "        st_mode：文件的访问权限\n",
    "        st_ino：字节数【UNIX】\n",
    "        st_uid：所有者的用户ID\n",
    "        st_gid：所有者的组ID\n",
    "        st_size：文件的大小\n",
    "        st_atime：最后的访问时间\n",
    "        st_mtime：最后的修改时间\n",
    "        st_atime：创建的时间"
   ]
  },
  {
   "cell_type": "code",
   "execution_count": 2,
   "metadata": {},
   "outputs": [
    {
     "name": "stdout",
     "output_type": "stream",
     "text": [
      "查看的文件路径： E:\\5、Python常用库\\OS【操作系统命令】\\Test.txt\n",
      "os.stat_result(st_mode=33206, st_ino=8725724278038007, st_dev=102610863, st_nlink=1, st_uid=0, st_gid=0, st_size=132, st_atime=13307120, st_mtime=13307122, st_ctime=1563073372)\n"
     ]
    }
   ],
   "source": [
    "path = os.path.join(os.getcwd(), 'Test.txt')\n",
    "\n",
    "print('查看的文件路径：', path)\n",
    "\n",
    "result = os.stat(path)\n",
    "print(result)"
   ]
  },
  {
   "cell_type": "markdown",
   "metadata": {},
   "source": [
    "### os.utime(path, times)\n",
    "    功能：返回指定的path文件的访问和修改的时间。\n",
    "    \n",
    "    参数:\n",
    "        path：要查看的文件路径\n",
    "        times：如果时间是 None, 则文件的访问和修改设为当前时间 。 \n",
    "               时间是一个 (atime, mtime) 用来分别作为访问和修改的时间。"
   ]
  },
  {
   "cell_type": "code",
   "execution_count": 92,
   "metadata": {},
   "outputs": [
    {
     "name": "stdout",
     "output_type": "stream",
     "text": [
      "查看的文件路径： E:\\5、Python常用库\\OS【操作系统命令】\\Test.txt\n",
      "查看的文件信息： os.stat_result(st_mode=33206, st_ino=8725724278038007, st_dev=102610863, st_nlink=1, st_uid=0, st_gid=0, st_size=132, st_atime=133071220, st_mtime=133071222, st_ctime=1563073372)\n",
      "------------------------------------------------------------\n",
      "文件的访问时间： 1974-03-21 04:13:40\n",
      "文件的修改时间： 1974-03-21 04:13:42\n"
     ]
    }
   ],
   "source": [
    "import time\n",
    "\n",
    "path = os.path.join(os.getcwd(), 'Test.txt')\n",
    "\n",
    "print('查看的文件路径：', path)\n",
    "\n",
    "fileinfos = os.stat(path)\n",
    "print('查看的文件信息：', fileinfos)\n",
    "print('-' * 60)\n",
    "\n",
    "print('文件的访问时间：', time.strftime('%Y-%m-%d %H:%M:%S', time.gmtime(fileinfos[-3])))\n",
    "print('文件的修改时间：', time.strftime('%Y-%m-%d %H:%M:%S', time.gmtime(fileinfos[-2])))"
   ]
  },
  {
   "cell_type": "code",
   "execution_count": 98,
   "metadata": {},
   "outputs": [
    {
     "name": "stdout",
     "output_type": "stream",
     "text": [
      "查看的文件信息： os.stat_result(st_mode=33206, st_ino=8725724278038007, st_dev=102610863, st_nlink=1, st_uid=0, st_gid=0, st_size=132, st_atime=13307120, st_mtime=13307122, st_ctime=1563073372)\n",
      "------------------------------------------------------------\n",
      "文件的访问时间： 1970-06-04 00:25:20\n",
      "文件的修改时间： 1970-06-04 00:25:22\n"
     ]
    }
   ],
   "source": [
    "path = os.path.join(os.getcwd(), 'Test.txt')\n",
    "\n",
    "os.utime(path,(13307120, 13307122))\n",
    "\n",
    "fileinfos = os.stat(path)\n",
    "print('查看的文件信息：', fileinfos)\n",
    "print('-' * 60)\n",
    "\n",
    "print('文件的访问时间：', time.strftime('%Y-%m-%d %H:%M:%S', time.gmtime(fileinfos[-3])))\n",
    "print('文件的修改时间：', time.strftime('%Y-%m-%d %H:%M:%S', time.gmtime(fileinfos[-2])))"
   ]
  },
  {
   "cell_type": "markdown",
   "metadata": {},
   "source": [
    "### os.chdir(path)\n",
    "    功能：改变当前工作目录\n",
    "    \n",
    "    参数：\n",
    "        path：要修改为的工作目录名"
   ]
  },
  {
   "cell_type": "code",
   "execution_count": 36,
   "metadata": {},
   "outputs": [
    {
     "name": "stdout",
     "output_type": "stream",
     "text": [
      "获取当前文件的操作目录： E:\\5、Python常用库\\OS【操作系统命令】\n",
      "获取当前文件的操作目录： D:\\python\n"
     ]
    }
   ],
   "source": [
    "print('获取当前文件的操作目录：', os.getcwd())\n",
    "\n",
    "os.chdir('D:\\\\python')\n",
    "\n",
    "print('获取当前文件的操作目录：', os.getcwd())"
   ]
  },
  {
   "cell_type": "markdown",
   "metadata": {},
   "source": [
    "### os.open(path, flags, mode=511, *, dir_fd=None)\n",
    "    功能：用于打开一个文件，并且设置需要的打开选项，模式参数mode参数是可选的，默认为 0777\n",
    "    \n",
    "    参数：\n",
    "        file -- 要打开的文件\n",
    "        flags -- 该参数可以是以下选项，多个使用 \"|\" 隔开：\n",
    "            os.O_RDONLY: 以只读的方式打开\n",
    "            os.O_WRONLY: 以只写的方式打开\n",
    "            os.O_RDWR : 以读写的方式打开\n",
    "            os.O_NONBLOCK: 打开时不阻塞\n",
    "            os.O_APPEND: 以追加的方式打开\n",
    "            os.O_CREAT: 创建并打开一个新文件\n",
    "            os.O_TRUNC: 打开一个文件并截断它的长度为零（必须有写权限）\n",
    "            os.O_EXCL: 如果指定的文件存在，返回错误\n",
    "            os.O_SHLOCK: 自动获取共享锁\n",
    "            os.O_EXLOCK: 自动获取独立锁\n",
    "            os.O_DIRECT: 消除或减少缓存效果\n",
    "            os.O_FSYNC : 同步写入\n",
    "            os.O_NOFOLLOW: 不追踪软链接\n",
    "        mode -- 类似 chmod()。"
   ]
  },
  {
   "cell_type": "code",
   "execution_count": 60,
   "metadata": {},
   "outputs": [
    {
     "name": "stdout",
     "output_type": "stream",
     "text": [
      "关闭文件成功!!\n"
     ]
    }
   ],
   "source": [
    "# 打开文件\n",
    "fd = os.open( \"foo.txt\", os.O_RDWR|os.O_CREAT )\n",
    "\n",
    "# 写入字符串\n",
    "os.write(fd, str.encode(\"This is test\"))\n",
    "\n",
    "# 关闭文件\n",
    "os.close( fd )\n",
    "\n",
    "print (\"关闭文件成功!!\")"
   ]
  },
  {
   "cell_type": "markdown",
   "metadata": {},
   "source": [
    "### os.chmod(path, mode)\n",
    "    功能：更改文件或目录的权限\n",
    "    \n",
    "    参数：\n",
    "        path：文件路径或目录路径\n",
    "        mode：文件或目录的操作模式，文件权限以用户id->组id->其它顺序检验,最先匹配的允许或禁止权限被应用。\n",
    "            stat.S_IXOTH: 其他用户有执行权0o001\n",
    "            stat.S_IWOTH: 其他用户有写权限0o002\n",
    "            stat.S_IROTH: 其他用户有读权限0o004\n",
    "            stat.S_IRWXO: 其他用户有全部权限(权限掩码)0o007\n",
    "            stat.S_IWUSR: 拥有者具有写权限0o200\n",
    "            stat.S_IRUSR: 拥有者具有读权限0o400\n",
    "            stat.S_IRWXU: 拥有者有全部权限(权限掩码)0o700"
   ]
  },
  {
   "cell_type": "code",
   "execution_count": 46,
   "metadata": {},
   "outputs": [],
   "source": [
    "import stat\n",
    "\n",
    "path = r'E:\\5、Python常用库\\OS【操作系统命令】\\test.txt'\n",
    "\n",
    "os.chmod(path, stat.S_IRWXU)     # 修改为拥有者有全部的权限"
   ]
  },
  {
   "cell_type": "code",
   "execution_count": 43,
   "metadata": {},
   "outputs": [
    {
     "data": {
      "text/plain": [
       "'E:\\\\5、Python常用库\\\\OS【操作系统命令】'"
      ]
     },
     "execution_count": 43,
     "metadata": {},
     "output_type": "execute_result"
    }
   ],
   "source": [
    "path = os.getcwd()\n",
    "\n",
    "path"
   ]
  }
 ],
 "metadata": {
  "kernelspec": {
   "display_name": "Python 3",
   "language": "python",
   "name": "python3"
  },
  "language_info": {
   "codemirror_mode": {
    "name": "ipython",
    "version": 3
   },
   "file_extension": ".py",
   "mimetype": "text/x-python",
   "name": "python",
   "nbconvert_exporter": "python",
   "pygments_lexer": "ipython3",
   "version": "3.7.3"
  }
 },
 "nbformat": 4,
 "nbformat_minor": 2
}
